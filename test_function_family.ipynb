{
  "nbformat": 4,
  "nbformat_minor": 0,
  "metadata": {
    "colab": {
      "provenance": [],
      "include_colab_link": true
    },
    "kernelspec": {
      "name": "python3",
      "display_name": "Python 3"
    },
    "language_info": {
      "name": "python"
    }
  },
  "cells": [
    {
      "cell_type": "markdown",
      "metadata": {
        "id": "view-in-github",
        "colab_type": "text"
      },
      "source": [
        "<a href=\"https://colab.research.google.com/github/zhaoxuan00707/zhaoxuan00707/blob/master/test_function_family.ipynb\" target=\"_parent\"><img src=\"https://colab.research.google.com/assets/colab-badge.svg\" alt=\"Open In Colab\"/></a>"
      ]
    },
    {
      "cell_type": "code",
      "source": [
        "import numpy as np\n",
        "import pandas as pd\n",
        "import matplotlib.pyplot as plt\n",
        "import seaborn as sns\n",
        "np.random.seed(19680801)\n",
        "import torch\n",
        "import torch.utils.data\n",
        "import torch.nn as nn\n",
        "import torch.optim as optim\n",
        "from torch.autograd import Variable\n",
        "import torchvision\n",
        "from torchvision import datasets, transforms\n",
        "import matplotlib.pyplot as plt\n",
        "import time\n",
        "from torch.utils.data import DataLoader"
      ],
      "metadata": {
        "id": "w2UX6njOr7OO"
      },
      "execution_count": null,
      "outputs": []
    },
    {
      "cell_type": "code",
      "source": [
        "#define the functions of SCM; f1 is binomial, f2 is normal and f3 is square\n",
        "\n",
        "def f1():\n",
        "    return np.random.binomial(n=1, p=0.3)\n",
        "\n",
        "\n",
        "def f2(x1):\n",
        "    return np.random.normal(loc=x1, scale=0.1)+1\n",
        "\n",
        "\n",
        "def f3(x2):\n",
        "    return x2 ** 2\n",
        "\n",
        "#generate the datasaet with a sample size of 100000\n",
        "\n",
        "dataset=[]\n",
        "x1_tensor=[]\n",
        "x2_tensor=[]\n",
        "x3_tensor=[]\n",
        "for i in range(100000):\n",
        "    x1 = f1()\n",
        "    x2 = f2(x1)\n",
        "    x3 = f3(x2)\n",
        "    dataset.append([x1,x2,x3])\n",
        "    x1_tensor.append([x1])\n",
        "    x2_tensor.append([x2])\n",
        "    x3_tensor.append([x3])\n",
        "\n",
        "\n",
        "\n",
        "x1_tensor = torch.as_tensor(x1)\n",
        "x2_tensor=torch.as_tensor(x2)\n",
        "x3_tensor=torch.as_tensor(x3)\n",
        "dataset = torch.as_tensor(dataset)\n",
        "print(dataset.shape)\n",
        "\n",
        "\n",
        "#define the neural nets to mimick f2 and f3\n",
        "\n",
        "class X2_nets(nn.Module):\n",
        "    def __init__(self):\n",
        "        super(X2_nets, self).__init__()\n",
        "        self.main = nn.Sequential(\n",
        "                                  nn.Linear(1, 10),\n",
        "\n",
        "                                  nn.ReLU(),\n",
        "                                  nn.Linear(10, 5),\n",
        "            nn.ReLU(),\n",
        "            nn.Linear(5, 1))\n",
        "\n",
        "    def forward(self, x):\n",
        "        x= self.main(x)\n",
        "\n",
        "        return x\n",
        "\n",
        "class X3_nets(nn.Module):\n",
        "    def __init__(self):\n",
        "        super(X3_nets, self).__init__()\n",
        "        self.main = nn.Sequential(\n",
        "                                  nn.Linear(1, 10),\n",
        "\n",
        "                                  nn.ReLU(),\n",
        "                                  nn.Linear(10, 5),\n",
        "            nn.ReLU(),\n",
        "            nn.Linear(5, 1))\n",
        "\n",
        "    def forward(self, x):\n",
        "        x= self.main(x)\n",
        "\n",
        "        return x\n",
        "\n",
        "'''class Discriminator(nn.Module):\n",
        "    def __init__(self):\n",
        "        super(Discriminator, self).__init__()\n",
        "        self.main = nn.Sequential(\n",
        "                                  nn.Linear(3, 25),\n",
        "\n",
        "                                  nn.ReLU(),\n",
        "                                  nn.Linear(25, 12),\n",
        "            nn.ReLU(),\n",
        "            nn.Linear(12, 6),\n",
        "            nn.ReLU(),\n",
        "            nn.Linear(6, 1),\n",
        "            #nn.Sigmoid()\n",
        "\n",
        "\n",
        "\n",
        "                                  )\n",
        "\n",
        "    def forward(self, x):\n",
        "        x= self.main(x)\n",
        "\n",
        "        return x'''\n",
        "\n",
        "#initialization of the neural netss\n",
        "x2_nets=X2_nets()\n",
        "x3_nets=X3_nets()\n",
        "#discriminator=Discriminator()\n",
        "\n",
        "\n",
        "#define the loss\n",
        "def mse_loss(input, target):\n",
        "    #print('weight',weight.view(1,-1).shape)\n",
        "    #print('squre',((input - target) ** 2).shape)\n",
        "\n",
        "    #return torch.sum(torch.t(weight.view(1,-1)) * (input - target) ** 2)\n",
        "    return torch.sum((input - target) ** 2)\n",
        "\n",
        "\n",
        "#the function of training one batch\n",
        "def train_f(data):\n",
        "    optimizer= optim.Adam([{'params': x2_nets.parameters()},\n",
        "                           {'params': x3_nets.parameters()},\n",
        "                     ],\n",
        "\n",
        "\n",
        "                            lr=0.001)  # , momentum=0.9)\n",
        "    optimizer.zero_grad()\n",
        "\n",
        "    x1_tensor= data[:, 0:1]\n",
        "    x2_tensor=data[:,1:2]\n",
        "    x3_tensor=data[:,2:3]\n",
        "\n",
        "\n",
        "    x2_out = x2_nets(x1_tensor)\n",
        "\n",
        "\n",
        "    x3_out = x3_nets(x2_out)\n",
        "\n",
        "\n",
        "\n",
        "    input=data\n",
        "    #print(input.shape)\n",
        "    target=torch.cat((x1_tensor,x2_out,x3_out), 1)\n",
        "    #print(target.shape)\n",
        "\n",
        "\n",
        "\n",
        "\n",
        "\n",
        "    #loss=nn.MSELoss()\n",
        "    output = mse_loss(input.float(), target.float())\n",
        "    output=output/1000\n",
        "    output.backward()\n",
        "    optimizer.step()\n",
        "    return output"
      ],
      "metadata": {
        "colab": {
          "base_uri": "https://localhost:8080/"
        },
        "id": "TmmkXNvxspEU",
        "outputId": "a29d357e-1913-4cbc-ae85-a36e0b78555f"
      },
      "execution_count": null,
      "outputs": [
        {
          "output_type": "stream",
          "name": "stdout",
          "text": [
            "torch.Size([100000, 3])\n"
          ]
        }
      ]
    },
    {
      "cell_type": "code",
      "source": [
        "train_loader = DataLoader(dataset, batch_size=1000, shuffle=True)\n",
        "\n",
        "\n",
        "#train the neural nets of f2 and f3\n",
        "for epoch in range(30):\n",
        "    loss_f=0\n",
        "    #loss_d=0\n",
        "    i=-1\n",
        "    for data in train_loader:\n",
        "        i=i+1\n",
        "        x=data\n",
        "\n",
        "        #if i%2==0:\n",
        "        #a,b=train_discriminator(x,y)\n",
        "        #print('b',b.shape)\n",
        "        #loss_d += a\n",
        "        loss_f += train_f(x)\n",
        "    print(epoch, loss_f)\n",
        "\n",
        "\n",
        "#to get the output of the neural nets\n",
        "x1_tensor= dataset[:, 0:1]\n",
        "print(x1_tensor.shape)\n",
        "\n",
        "x2_out = x2_nets(x1_tensor)\n",
        "print(x2_out.shape)\n",
        "\n",
        "\n",
        "x3_out = x3_nets(x2_out)\n",
        "\n",
        "\n",
        "\n",
        "\n",
        "\n",
        "    #print(input.shape)\n",
        "target=torch.cat((x1_tensor,x2_out,x3_out), 1)"
      ],
      "metadata": {
        "colab": {
          "base_uri": "https://localhost:8080/"
        },
        "id": "w-_MD8WFvOSz",
        "outputId": "6559ef34-2d67-47c0-9c4b-f229e6cb692e"
      },
      "execution_count": null,
      "outputs": [
        {
          "output_type": "stream",
          "name": "stdout",
          "text": [
            "0 tensor(465.2038, grad_fn=<AddBackward0>)\n",
            "1 tensor(259.6102, grad_fn=<AddBackward0>)\n",
            "2 tensor(179.4922, grad_fn=<AddBackward0>)\n",
            "3 tensor(115.0811, grad_fn=<AddBackward0>)\n",
            "4 tensor(39.5144, grad_fn=<AddBackward0>)\n",
            "5 tensor(16.1280, grad_fn=<AddBackward0>)\n",
            "6 tensor(10.7356, grad_fn=<AddBackward0>)\n",
            "7 tensor(9.5759, grad_fn=<AddBackward0>)\n",
            "8 tensor(9.2235, grad_fn=<AddBackward0>)\n",
            "9 tensor(8.9891, grad_fn=<AddBackward0>)\n",
            "10 tensor(8.8901, grad_fn=<AddBackward0>)\n",
            "11 tensor(8.8341, grad_fn=<AddBackward0>)\n",
            "12 tensor(8.7698, grad_fn=<AddBackward0>)\n",
            "13 tensor(8.7624, grad_fn=<AddBackward0>)\n",
            "14 tensor(8.7567, grad_fn=<AddBackward0>)\n",
            "15 tensor(8.7450, grad_fn=<AddBackward0>)\n",
            "16 tensor(8.7330, grad_fn=<AddBackward0>)\n",
            "17 tensor(8.6989, grad_fn=<AddBackward0>)\n",
            "18 tensor(8.6985, grad_fn=<AddBackward0>)\n",
            "19 tensor(8.6923, grad_fn=<AddBackward0>)\n",
            "20 tensor(8.6886, grad_fn=<AddBackward0>)\n",
            "21 tensor(8.6620, grad_fn=<AddBackward0>)\n",
            "22 tensor(8.6645, grad_fn=<AddBackward0>)\n",
            "23 tensor(8.6601, grad_fn=<AddBackward0>)\n",
            "24 tensor(8.6824, grad_fn=<AddBackward0>)\n",
            "25 tensor(8.6727, grad_fn=<AddBackward0>)\n",
            "26 tensor(8.6617, grad_fn=<AddBackward0>)\n",
            "27 tensor(8.6622, grad_fn=<AddBackward0>)\n",
            "28 tensor(8.6554, grad_fn=<AddBackward0>)\n",
            "29 tensor(8.6495, grad_fn=<AddBackward0>)\n",
            "torch.Size([100000, 1])\n",
            "torch.Size([100000, 1])\n"
          ]
        }
      ]
    },
    {
      "cell_type": "code",
      "source": [
        "a = dataset[:1000,:] #to calculate MMD, we use only 1000 samples, otherwise google colab dont allow the high computation\n",
        "b = target[:1000,:]\n"
      ],
      "metadata": {
        "id": "5E51oS23vSIi"
      },
      "execution_count": null,
      "outputs": []
    },
    {
      "cell_type": "code",
      "source": [
        "def mmd(x, y, sigma):\n",
        "    # compare kernel MMD paper and code:\n",
        "    # A. Gretton et al.: A kernel two-sample test, JMLR 13 (2012)\n",
        "    # http://www.gatsby.ucl.ac.uk/~gretton/mmd/mmd.htm\n",
        "    # x shape [n, d] y shape [m, d]\n",
        "    # n_perm number of bootstrap permutations to get p-value, pass none to not get p-value\n",
        "    n, d = x.shape\n",
        "    m, d2 = y.shape\n",
        "    assert d == d2\n",
        "    xy = torch.cat([x.detach(), y.detach()], dim=0)\n",
        "    dists = torch.cdist(xy, xy, p=2.0)\n",
        "    # we are a bit sloppy here as we just keep the diagonal and everything twice\n",
        "    # note that sigma should be squared in the RBF to match the Gretton et al heuristic\n",
        "    k = torch.exp((-1/(2*sigma**2)) * dists**2) + torch.eye(n+m)*1e-5\n",
        "    k_x = k[:n, :n]\n",
        "    k_y = k[n:, n:]\n",
        "    k_xy = k[:n, n:]\n",
        "    # The diagonals are always 1 (up to numerical error, this is (3) in Gretton et al.)\n",
        "    # note that their code uses the biased (and differently scaled mmd)\n",
        "    mmd = k_x.sum() / (n * (n - 1)) + k_y.sum() / (m * (m - 1)) - 2 * k_xy.sum() / (n * m)\n",
        "    return mmd"
      ],
      "metadata": {
        "id": "PptzFRzXMIdT"
      },
      "execution_count": null,
      "outputs": []
    },
    {
      "cell_type": "code",
      "source": [
        "dists = torch.pdist(torch.cat([a, b], dim=0))\n",
        "sigma = dists[:100].median()/2\n",
        "our_mmd = mmd(a, b, sigma)\n",
        "our_mmd"
      ],
      "metadata": {
        "colab": {
          "base_uri": "https://localhost:8080/"
        },
        "id": "w4hLmssBMKDc",
        "outputId": "c96cf3dd-e7ea-4b07-c4ae-64d7b16a37ae"
      },
      "execution_count": null,
      "outputs": [
        {
          "output_type": "execute_result",
          "data": {
            "text/plain": [
              "tensor(0.0015, grad_fn=<SubBackward0>)"
            ]
          },
          "metadata": {},
          "execution_count": 84
        }
      ]
    },
    {
      "cell_type": "code",
      "source": [
        "import tqdm"
      ],
      "metadata": {
        "id": "i566SN8mNt7D"
      },
      "execution_count": null,
      "outputs": []
    },
    {
      "cell_type": "code",
      "source": [
        "N_X = len(a[:1000,:])\n",
        "N_X"
      ],
      "metadata": {
        "colab": {
          "base_uri": "https://localhost:8080/"
        },
        "id": "34jiYLl1WiOb",
        "outputId": "d2447e42-d90c-4623-dec2-ac486e65f2d4"
      },
      "execution_count": null,
      "outputs": [
        {
          "output_type": "execute_result",
          "data": {
            "text/plain": [
              "1000"
            ]
          },
          "metadata": {},
          "execution_count": 86
        }
      ]
    },
    {
      "cell_type": "code",
      "source": [
        "N_X = len(a)\n",
        "N_Y = len(b)\n",
        "xy = torch.cat([a, b], dim=0).double()\n",
        "\n",
        "mmds = []\n",
        "for i in tqdm.tqdm(range(1000)):\n",
        "    xy = xy[torch.randperm(len(xy))]\n",
        "    mmds.append(mmd(xy[:N_X], xy[N_X:], sigma).item())\n",
        "mmds = torch.tensor(mmds)"
      ],
      "metadata": {
        "colab": {
          "base_uri": "https://localhost:8080/"
        },
        "id": "2RbGSVmbNS6z",
        "outputId": "297166ee-6904-46f6-958b-1f7a4e74e1db"
      },
      "execution_count": null,
      "outputs": [
        {
          "output_type": "stream",
          "name": "stderr",
          "text": [
            "100%|██████████| 1000/1000 [01:10<00:00, 14.17it/s]\n"
          ]
        }
      ]
    },
    {
      "cell_type": "code",
      "source": [
        "from matplotlib import pyplot\n",
        "pyplot.hist(mmds.numpy(), bins=20)"
      ],
      "metadata": {
        "colab": {
          "base_uri": "https://localhost:8080/",
          "height": 572
        },
        "id": "Xf3JAXTQZAbj",
        "outputId": "5aa38c0c-1562-4635-be36-69e56fc9ecd5"
      },
      "execution_count": null,
      "outputs": [
        {
          "output_type": "execute_result",
          "data": {
            "text/plain": [
              "(array([557., 164.,  82.,  49.,  49.,  31.,  20.,  18.,   8.,   6.,   4.,\n",
              "          2.,   1.,   2.,   2.,   1.,   0.,   2.,   1.,   1.]),\n",
              " array([0.00126859, 0.00167821, 0.00208783, 0.00249745, 0.00290707,\n",
              "        0.00331669, 0.00372632, 0.00413594, 0.00454556, 0.00495518,\n",
              "        0.0053648 , 0.00577442, 0.00618405, 0.00659367, 0.00700329,\n",
              "        0.00741291, 0.00782253, 0.00823216, 0.00864178, 0.0090514 ,\n",
              "        0.00946102]),\n",
              " <BarContainer object of 20 artists>)"
            ]
          },
          "metadata": {},
          "execution_count": 88
        },
        {
          "output_type": "display_data",
          "data": {
            "text/plain": [
              "<Figure size 640x480 with 1 Axes>"
            ],
            "image/png": "[encoded data removed]"
          },
          "metadata": {}
        }
      ]
    },
    {
      "cell_type": "code",
      "source": [
        "torch.quantile(mmds, 0.95) #threshold for 5% significance"
      ],
      "metadata": {
        "colab": {
          "base_uri": "https://localhost:8080/"
        },
        "id": "o3envhSNOy2q",
        "outputId": "33f51d30-4c2e-41d8-f5ed-4469500588de"
      },
      "execution_count": null,
      "outputs": [
        {
          "output_type": "execute_result",
          "data": {
            "text/plain": [
              "tensor(0.0040)"
            ]
          },
          "metadata": {},
          "execution_count": 94
        }
      ]
    },
    {
      "cell_type": "code",
      "source": [
        "(our_mmd < mmds).float().mean() #to get the p value"
      ],
      "metadata": {
        "colab": {
          "base_uri": "https://localhost:8080/"
        },
        "id": "qUx-aBhDQCB6",
        "outputId": "3c7df574-2575-4975-9673-7d54a17ad0fa"
      },
      "execution_count": null,
      "outputs": [
        {
          "output_type": "execute_result",
          "data": {
            "text/plain": [
              "tensor(0.5480)"
            ]
          },
          "metadata": {},
          "execution_count": 90
        }
      ]
    }
  ]
}